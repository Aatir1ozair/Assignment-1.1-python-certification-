{
 "cells": [
  {
   "cell_type": "raw",
   "id": "849c4d1d",
   "metadata": {},
   "source": [
    "1. What are data types in programming?\n",
    "Data types are the classification of data that tells the compiler or interpreter how the programmer intends to use that data. In most programming languages, there are a few basic data types, such as integers, floating point numbers, characters, and strings. More complex data types can be created by the programmer, and these are usually called user-defined data types."
   ]
  },
  {
   "cell_type": "raw",
   "id": "4629629f",
   "metadata": {},
   "source": [
    "2. What is the difference between a primitive and non-primitive data type?\n",
    "A primitive data type is one that is built into the language and is not derived from any other type. Examples of primitive data types would be int, float, and char in C++. A non-primitive data type is one that is not built into the language and is instead derived from a primitive data type. An example of a non-primitive data type would be an array, which is derived from the int primitive data type."
   ]
  },
  {
   "cell_type": "raw",
   "id": "8a05af63",
   "metadata": {},
   "source": [
    "3. Can you give me some examples of primitive data types?\n",
    "In programming, there are two main types of data: primitive and non-primitive. Primitive data types are the most basic data types available, and include types like integers, floats, and Booleans. Non-primitive data types are more complex, and include types like strings, arrays, and objects."
   ]
  },
  {
   "cell_type": "raw",
   "id": "607adbfa",
   "metadata": {},
   "source": [
    "4. Can you list some common non-primitive data structures used in Python?\n",
    "Some common non-primitive data structures used in Python include lists, tuples, and dictionaries."
   ]
  },
  {
   "cell_type": "raw",
   "id": "b241ef1d",
   "metadata": {},
   "source": [
    "5. What is an Operator in general?\n",
    "In general, an operator is defined as a Character used in Mathematics or in Programming to execute a specific function. For example, operators are used differently in different fields. Let's check out two of the fields here.\n",
    "\n",
    "In Mathematics: Let's consider “x” as an operator in mathematics that executes the function called multiplication.  \n",
    "\n",
    "In Programming: Let's consider one of the popular operators used in computer programming languages, which is a Boolean operator used to express whether a statement is true or false."
   ]
  },
  {
   "cell_type": "raw",
   "id": "d74c3d72",
   "metadata": {},
   "source": [
    "6. What is meant by an Operator in Python?\n",
    "These are the special symbols in python and are used to execute an Arithmetic or Logical computation. An operator alone cannot perform an activity, it needs an Operand. What is an operand? An Operand is a value that the operator needs to complete a task."
   ]
  },
  {
   "cell_type": "raw",
   "id": "a4155e0a",
   "metadata": {},
   "source": [
    "7. Types of operators in Python\n",
    "We have multiple operators in Python, and each operator is subdivided into other operators. Let’s list them down and know about each operator in detail.\n",
    "\n",
    "Arithmetic operators\n",
    "Comparison operators\n",
    "Assignment operators\n",
    "Logical operators\n",
    "Bitwise operators\n",
    "Membership operators\n",
    "Special operators\n",
    "   -Identity operators\n",
    "   -Membership operators"
   ]
  },
  {
   "cell_type": "raw",
   "id": "4663018b",
   "metadata": {},
   "source": [
    "8. What constitutes “True” in Python?\n",
    "A true expression is any expression that does not evaluate to 0, the empty list [ ], tuple ( ), dictionary { } or the objects None or False."
   ]
  },
  {
   "cell_type": "raw",
   "id": "90b6e1c3",
   "metadata": {},
   "source": [
    "9. What are the three main conditional statements in Python?\n",
    "if, elif, and else"
   ]
  },
  {
   "cell_type": "raw",
   "id": "e8c3edfc",
   "metadata": {},
   "source": [
    "10. What are the comparison operators in Python?\n",
    "< Less than, > Greater than, <= Less than or equal to, >= Greater than or equal to, = Equal to, != not equal, o alternative not equal. Note a single = is NOT a Python comparison operator, it is an assignment operator only."
   ]
  },
  {
   "cell_type": "raw",
   "id": "89a90794",
   "metadata": {},
   "source": [
    "11. How is the Python switch statement used?\n",
    "This is a trick question, there is no built-in switch statement in Python, which is unusual. A switch statement can be easily created using if-elif using lambda or with Python dictionaries."
   ]
  },
  {
   "cell_type": "raw",
   "id": "5cb8f9aa",
   "metadata": {},
   "source": [
    "12. What is the difference between a for loop and a while loop?\n",
    "A for loop is typically used when you know exactly how many times the loop needs to be repeated. A while loop is typically used when you don't know how many times the loop needs to be repeated.\n",
    "\n",
    "A while loop repeats as long as its condition is true. For example, if a while loop says \"while x == 5\", then the line will execute as long as x equals five."
   ]
  },
  {
   "cell_type": "raw",
   "id": "d12956d8",
   "metadata": {},
   "source": [
    "13. What is the Python syntax for a for loop?\n",
    "The for loop is a programming construct that allows you to iterate over an arbitrary range of values, mapping them to the required actions.\n",
    "\n",
    "It can be thought of as an extension of the mathematical notion of a for loop, which is defined as \"a control structure that enables one to iterate (repeat) a process (such as counting or summing) while varying the process's start value (or its end point), step size, and/or direction.\"\n",
    "   - The syntax for Python for loops is:\n",
    "\n",
    "   - for x in range(y): do something"
   ]
  },
  {
   "cell_type": "raw",
   "id": "9d15ecb9",
   "metadata": {},
   "source": [
    "14. What are the advantages of using a for loop in Python?\n",
    "A for loop is a type of loop that executes a set of instructions repeatedly. It uses the following syntax: for x in range(y): do something\n",
    "\n",
    "This type of loop has the following properties:\n",
    "\n",
    "For loops are good because they can make your code more readable and easier to follow.\n",
    "They also make sure that certain instructions are executed at least one time."
   ]
  },
  {
   "cell_type": "raw",
   "id": "08f9f0e5",
   "metadata": {},
   "source": [
    "15. What are the disadvantages of using a for loop in Python?\n",
    "The for-loop is one of the most basic constructs in programming. However, this construct has its own disadvantages.\n",
    "\n",
    "If you don't know the upper-bound of your loop, you have to keep track of it by hand or break out of your loop early.\n",
    "You can't use a break statement to escape from a nested loop."
   ]
  },
  {
   "cell_type": "raw",
   "id": "ed901989",
   "metadata": {},
   "source": [
    "16. What are the two types of functions in Python?\n",
    "There are two types of functions in Python: built-in functions and user-defined functions. Built-in functions are functions that are already defined in the Python language, such as the print() function. User-defined functions are functions that are created by the user, and they can be created to do anything that the user wants them to do."
   ]
  },
  {
   "cell_type": "raw",
   "id": "e89d7763",
   "metadata": {},
   "source": [
    "17. Can you explain what a call graph is? How do you create one?\n",
    "A call graph is a visual representation of the relationships between the various functions in a Python program. It can be used to help debug code, optimize code, and understand code flow. To create a call graph, you can use the pycallgraph library."
   ]
  },
  {
   "cell_type": "raw",
   "id": "4ff720ac",
   "metadata": {},
   "source": [
    "18. When should you use anonymous functions and when should you use regular ones?\n",
    "There is no definitive answer to this question, as it depends on the specific situation and what you are trying to accomplish. However, a general rule of thumb is that anonymous functions are best used for simple tasks that can be easily expressed in a single line of code. Regular functions, on the other hand, are better suited for more complex tasks that require multiple lines of code."
   ]
  },
  {
   "cell_type": "raw",
   "id": "5f721181",
   "metadata": {},
   "source": [
    "19. Do Python functions have return values? If yes, then how many can they have?\n",
    "Yes, Python functions can have return values. They can have a single return value, or they can have multiple return values."
   ]
  },
  {
   "cell_type": "raw",
   "id": "7a35466a",
   "metadata": {},
   "source": [
    "20. Why does Python support both positional and keyword arguments to its functions?\n",
    "Python supports both positional and keyword arguments in order to give developers more flexibility when designing their functions. Positional arguments are those that are passed in by position, without explicitly specifying the parameter name. Keyword arguments are those that are passed in by explicitly specifying the parameter name. Python allows for both types of arguments so that developers can choose the approach that makes the most sense for their particular function."
   ]
  }
 ],
 "metadata": {
  "kernelspec": {
   "display_name": "Python 3 (ipykernel)",
   "language": "python",
   "name": "python3"
  },
  "language_info": {
   "codemirror_mode": {
    "name": "ipython",
    "version": 3
   },
   "file_extension": ".py",
   "mimetype": "text/x-python",
   "name": "python",
   "nbconvert_exporter": "python",
   "pygments_lexer": "ipython3",
   "version": "3.9.12"
  }
 },
 "nbformat": 4,
 "nbformat_minor": 5
}
